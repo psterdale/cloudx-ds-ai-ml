{
 "cells": [
  {
   "cell_type": "code",
   "execution_count": 2,
   "metadata": {},
   "outputs": [
    {
     "data": {
      "text/plain": [
       "my_imx = 10\n",
       "my_mutx = 20\n",
       "myname = hi\n"
      ]
     },
     "metadata": {},
     "output_type": "display_data"
    },
    {
     "data": {
      "text/plain": [
       "hi"
      ]
     },
     "execution_count": 2,
     "metadata": {},
     "output_type": "execute_result"
    }
   ],
   "source": [
    "val my_imx=10\n",
    "var my_mutx=20\n",
    "var myname=\"hi\""
   ]
  },
  {
   "cell_type": "code",
   "execution_count": 3,
   "metadata": {},
   "outputs": [
    {
     "data": {
      "text/plain": [
       "state = New York\n"
      ]
     },
     "metadata": {},
     "output_type": "display_data"
    },
    {
     "data": {
      "text/plain": [
       "New York"
      ]
     },
     "execution_count": 3,
     "metadata": {},
     "output_type": "execute_result"
    }
   ],
   "source": [
    "var state=\"New York\""
   ]
  },
  {
   "cell_type": "code",
   "execution_count": null,
   "metadata": {},
   "outputs": [],
   "source": [
    "var principal=500\n",
    "var interest_rate=12\n",
    "var years=5\n",
    "var interest=(principal*interest_rate*years)/100"
   ]
  },
  {
   "cell_type": "code",
   "execution_count": 12,
   "metadata": {},
   "outputs": [
    {
     "data": {
      "text/plain": [
       "defined object Purge\n"
      ]
     },
     "metadata": {},
     "output_type": "display_data"
    }
   ],
   "source": [
    "object Purge {\n",
    "   def purgeVowels( str:String ) : String = str.filter(ch => !isVowel(ch))\n",
    "//    def isVowel(letter: Char): Boolean = {\n",
    "//     letter.toLower match {\n",
    "//         case 'a' | 'e' | 'i' | 'o' | 'u' => true\n",
    "//         case _ => false\n",
    "//     }\n",
    "       \n",
    "// }\n",
    "    def isVowel(letter: Char): Boolean = {\n",
    "    letter.toLower match {\n",
    "        case 'a' | 'e' | 'i' | 'o' | 'u' => true\n",
    "        case _ => false\n",
    "    }\n",
    "}\n",
    "\n",
    "def removeVowels(str: String): String = {\n",
    "    str.filterNot(isVowel)\n",
    "}\n",
    "    \n",
    "}"
   ]
  },
  {
   "cell_type": "code",
   "execution_count": 10,
   "metadata": {},
   "outputs": [
    {
     "name": "stdout",
     "output_type": "stream",
     "text": [
      "Input: Hello, World!\n",
      "Output: Hll, Wrld!\n"
     ]
    },
    {
     "data": {
      "text/plain": [
       "inputString = Hello, World!\n",
       "result = Hll, Wrld!\n"
      ]
     },
     "metadata": {},
     "output_type": "display_data"
    },
    {
     "data": {
      "text/plain": [
       "isVowel: (letter: Char)Boolean\n",
       "removeVowels: (str: String)String\n"
      ]
     },
     "metadata": {},
     "output_type": "display_data"
    },
    {
     "data": {
      "text/plain": [
       "Hll, Wrld!"
      ]
     },
     "execution_count": 10,
     "metadata": {},
     "output_type": "execute_result"
    }
   ],
   "source": [
    "def isVowel(letter: Char): Boolean = {\n",
    "    letter.toLower match {\n",
    "        case 'a' | 'e' | 'i' | 'o' | 'u' => true\n",
    "        case _ => false\n",
    "    }\n",
    "}\n",
    "\n",
    "def removeVowels(str: String): String = {\n",
    "    str.filterNot(isVowel)\n",
    "}\n",
    "\n",
    "// Example usage:\n",
    "val inputString = \"Hello, World!\"\n",
    "val result = removeVowels(inputString)\n",
    "println(s\"Input: $inputString\")\n",
    "println(s\"Output: $result\")"
   ]
  },
  {
   "cell_type": "code",
   "execution_count": 14,
   "metadata": {},
   "outputs": [
    {
     "data": {
      "text/plain": [
       "defined object Greet\n"
      ]
     },
     "metadata": {},
     "output_type": "display_data"
    }
   ],
   "source": [
    "object Greet{ def greet(hour:Int):String = { if (hour >= 4 && hour < 12){ return \"Good Morning\" }\n",
    "                                            else if (hour >= 12 && hour < 16){ return \"Good Afternoon\" }\n",
    "                                            else if (hour >= 16 && hour < 21){ return \"Good Evening\" } \n",
    "                                            else { return \"Good Night\" } \n",
    "                                            \n",
    "                                           \n",
    "                                           } }"
   ]
  },
  {
   "cell_type": "code",
   "execution_count": 15,
   "metadata": {},
   "outputs": [
    {
     "data": {
      "text/plain": [
       "defined class Student\n"
      ]
     },
     "metadata": {},
     "output_type": "display_data"
    }
   ],
   "source": [
    "class Student(name_a: String, sex_a: Char, grade_a: Int, age_a: Int) {\n",
    "   var name: String = name_a;\n",
    "   var sex: Char = sex_a;\n",
    "   var grade: Int = grade_a;\n",
    "   var age: Int = age_a;\n",
    "}"
   ]
  },
  {
   "cell_type": "code",
   "execution_count": 16,
   "metadata": {},
   "outputs": [
    {
     "data": {
      "text/plain": [
       "defined class Student\n"
      ]
     },
     "metadata": {},
     "output_type": "display_data"
    }
   ],
   "source": [
    "class Student() {\n",
    " var name: String = \"\";\n",
    " var sex: Char = 'F';\n",
    " var grade: Int = 5;\n",
    " var age: Int = 12;\n",
    "\n",
    " def this(name_a: String) {\n",
    "  this()\n",
    "  println(\"Creating new object per first constructor\")\n",
    "  this.name = name_a\n",
    " }\n",
    "\n",
    " def this(name_a: String, sex_a: Char) {\n",
    "  this()\n",
    "  println(\"Creating new object per second constructor\")\n",
    "  this.name = name_a;\n",
    "  this.sex = sex_a;\n",
    " }\n",
    "\n",
    " def this(name_a: String, sex_a: Char, grade_a: Int, age_a: Int) {\n",
    "  this()\n",
    "  println(\"Creating new object per third constructor\")\n",
    "  this.name = name_a;\n",
    "  this.sex = sex_a;\n",
    "  this.grade = grade_a;\n",
    "  this.age = age_a;\n",
    " }\n",
    "\n",
    "}"
   ]
  },
  {
   "cell_type": "code",
   "execution_count": 17,
   "metadata": {},
   "outputs": [
    {
     "name": "stdout",
     "output_type": "stream",
     "text": [
      "2\n",
      "3\n",
      "4\n",
      "5\n",
      "6\n"
     ]
    },
    {
     "data": {
      "text/plain": [
       "defined object Calc\n"
      ]
     },
     "metadata": {},
     "output_type": "display_data"
    },
    {
     "data": {
      "text/plain": [
       "20"
      ]
     },
     "execution_count": 17,
     "metadata": {},
     "output_type": "execute_result"
    }
   ],
   "source": [
    "object Calc {\n",
    "       def calcSum( x:Int, y:Int ) : Int = {\n",
    "           var sum : Int = 0;\n",
    "           var each: Int = 0;\n",
    "           for (each <- x to y){\n",
    "               println(each);\n",
    "               sum = sum+each;\n",
    "           }\n",
    "       return sum;\n",
    "       }\n",
    "}\n",
    "Calc.calcSum(2,6)"
   ]
  },
  {
   "cell_type": "code",
   "execution_count": 18,
   "metadata": {},
   "outputs": [
    {
     "data": {
      "text/plain": [
       "strArray = Array(John, Doe, Jane, Sach)\n"
      ]
     },
     "metadata": {},
     "output_type": "display_data"
    },
    {
     "data": {
      "text/plain": [
       "[John, Doe, Jane, Sach]"
      ]
     },
     "execution_count": 18,
     "metadata": {},
     "output_type": "execute_result"
    }
   ],
   "source": [
    "var strArray:Array[String] = Array(\"John\",\"Doe\",\"Jane\",\"Sach\");\n"
   ]
  },
  {
   "cell_type": "code",
   "execution_count": 19,
   "metadata": {},
   "outputs": [
    {
     "data": {
      "text/plain": [
       "numArray = Array(10, 12, 14, 16, 18, 20)\n"
      ]
     },
     "metadata": {},
     "output_type": "display_data"
    },
    {
     "data": {
      "text/plain": [
       "[10, 12, 14, 16, 18, 20]"
      ]
     },
     "execution_count": 19,
     "metadata": {},
     "output_type": "execute_result"
    }
   ],
   "source": [
    "import Array._\n",
    "\n",
    "var numArray = range(10, 22, 2);\n",
    "\n"
   ]
  },
  {
   "cell_type": "code",
   "execution_count": 21,
   "metadata": {},
   "outputs": [
    {
     "data": {
      "text/plain": [
       "strList = List(apple, banana, mango, orange, pears)\n"
      ]
     },
     "metadata": {},
     "output_type": "display_data"
    },
    {
     "data": {
      "text/plain": [
       "List(apple, banana, mango, orange, pears)"
      ]
     },
     "execution_count": 21,
     "metadata": {},
     "output_type": "execute_result"
    }
   ],
   "source": [
    "val strList = List(\"apple\", \"banana\", \"mango\",\"orange\",\"pears\")"
   ]
  },
  {
   "cell_type": "code",
   "execution_count": 22,
   "metadata": {},
   "outputs": [
    {
     "data": {
      "text/plain": [
       "intSet = Set(2, 4, 17, 19)\n"
      ]
     },
     "metadata": {},
     "output_type": "display_data"
    },
    {
     "data": {
      "text/plain": [
       "Set(2, 4, 17, 19)"
      ]
     },
     "execution_count": 22,
     "metadata": {},
     "output_type": "execute_result"
    }
   ],
   "source": [
    "var intSet:Set[Int]=Set(2,4,17,19)\n"
   ]
  },
  {
   "cell_type": "code",
   "execution_count": null,
   "metadata": {},
   "outputs": [],
   "source": [
    "val capitals: = Map(\"AZ\" -> \"Phoenix\", \"CA\" -> \"Sacramento\")\n"
   ]
  },
  {
   "cell_type": "code",
   "execution_count": 2,
   "metadata": {},
   "outputs": [
    {
     "data": {
      "text/plain": [
       "charMap = Map(A -> 1, B -> 2, C -> 3)\n"
      ]
     },
     "metadata": {},
     "output_type": "display_data"
    },
    {
     "data": {
      "text/plain": [
       "Map(A -> 1, B -> 2, C -> 3)"
      ]
     },
     "execution_count": 2,
     "metadata": {},
     "output_type": "execute_result"
    }
   ],
   "source": [
    "val charMap: Map[Char, Int] = Map('A' -> 1, 'B' -> 2, 'C'->3)"
   ]
  },
  {
   "cell_type": "code",
   "execution_count": 3,
   "metadata": {},
   "outputs": [
    {
     "data": {
      "text/plain": [
       "myTuple = (5,Hello,100)\n"
      ]
     },
     "metadata": {},
     "output_type": "display_data"
    },
    {
     "data": {
      "text/plain": [
       "(5,Hello,100)"
      ]
     },
     "execution_count": 3,
     "metadata": {},
     "output_type": "execute_result"
    }
   ],
   "source": [
    "var myTuple=(5,\"Hello\",100)"
   ]
  },
  {
   "cell_type": "code",
   "execution_count": 3,
   "metadata": {},
   "outputs": [
    {
     "data": {
      "text/plain": [
       "myIter = non-empty iterator\n"
      ]
     },
     "metadata": {},
     "output_type": "display_data"
    },
    {
     "data": {
      "text/plain": [
       "non-empty iterator"
      ]
     },
     "execution_count": 3,
     "metadata": {},
     "output_type": "execute_result"
    }
   ],
   "source": [
    "val myIter = Iterator(\"I\", \"am\", \"going\")\n"
   ]
  },
  {
   "cell_type": "code",
   "execution_count": 4,
   "metadata": {},
   "outputs": [
    {
     "data": {
      "text/plain": [
       "defined object IOTest\n"
      ]
     },
     "metadata": {},
     "output_type": "display_data"
    }
   ],
   "source": [
    "import java.io._\n",
    "object IOTest {\n",
    "   def main(args: Array[String]) {\n",
    "      val writer = new PrintWriter(new File(\"new.txt\" ))\n",
    "\n",
    "      writer.write(\"Hello There Scala\")\n",
    "      writer.close()\n",
    "   }\n",
    "}"
   ]
  },
  {
   "cell_type": "code",
   "execution_count": 5,
   "metadata": {},
   "outputs": [
    {
     "data": {
      "text/plain": [
       "writer = java.io.PrintWriter@36dca5b4\n"
      ]
     },
     "metadata": {},
     "output_type": "display_data"
    },
    {
     "data": {
      "text/plain": [
       "java.io.PrintWriter@36dca5b4"
      ]
     },
     "execution_count": 5,
     "metadata": {},
     "output_type": "execute_result"
    }
   ],
   "source": [
    "import java.io._\n",
    "val writer = new PrintWriter(new File(\"New.txt\" ))\n",
    "writer.write(\"Hello Scala\")\n",
    "writer.write(\"Bye Scala\")\n",
    "writer.close()"
   ]
  },
  {
   "cell_type": "code",
   "execution_count": null,
   "metadata": {},
   "outputs": [],
   "source": []
  }
 ],
 "metadata": {
  "kernelspec": {
   "display_name": "Apache Toree - Scala",
   "language": "scala",
   "name": "apache_toree_scala"
  },
  "language_info": {
   "codemirror_mode": "text/x-scala",
   "file_extension": ".scala",
   "mimetype": "text/x-scala",
   "name": "scala",
   "pygments_lexer": "scala",
   "version": "2.11.8"
  },
  "toc": {
   "base_numbering": 1,
   "nav_menu": {},
   "number_sections": true,
   "sideBar": true,
   "skip_h1_title": false,
   "title_cell": "Table of Contents",
   "title_sidebar": "Contents",
   "toc_cell": false,
   "toc_position": {},
   "toc_section_display": true,
   "toc_window_display": false
  }
 },
 "nbformat": 4,
 "nbformat_minor": 2
}
