{
 "cells": [
  {
   "cell_type": "code",
   "execution_count": 17,
   "metadata": {},
   "outputs": [],
   "source": [
    "def avg_calc(n):\n",
    "    sum=0\n",
    "    for i in range(n+1):\n",
    "#         print(i)\n",
    "        sum=sum+i\n",
    "    return sum/n\n",
    "\n",
    "        \n",
    "    "
   ]
  },
  {
   "cell_type": "code",
   "execution_count": null,
   "metadata": {},
   "outputs": [],
   "source": []
  },
  {
   "cell_type": "code",
   "execution_count": 18,
   "metadata": {},
   "outputs": [
    {
     "name": "stdout",
     "output_type": "stream",
     "text": [
      "50.5\n"
     ]
    }
   ],
   "source": [
    "print(avg_calc(100))"
   ]
  },
  {
   "cell_type": "code",
   "execution_count": 11,
   "metadata": {},
   "outputs": [],
   "source": [
    "def get_percentile(arr,point):\n",
    "    l=0\n",
    "    L=len(arr)\n",
    "    for i in arr:\n",
    "        if i<=point:\n",
    "            l=l+1\n",
    "    print('l:',l,'L:',L)\n",
    "    return (l/L)*100\n",
    "        \n",
    "    "
   ]
  },
  {
   "cell_type": "code",
   "execution_count": 13,
   "metadata": {},
   "outputs": [
    {
     "name": "stdout",
     "output_type": "stream",
     "text": [
      "l: 2 L: 6\n",
      "33.33333333333333\n"
     ]
    }
   ],
   "source": [
    "print(get_percentile([1,2,3,4,5,6],2))"
   ]
  },
  {
   "cell_type": "code",
   "execution_count": null,
   "metadata": {},
   "outputs": [],
   "source": [
    "def email_func(text):\n",
    "    pos=text.find('@')\n",
    "    if pos!=-1:\n",
    "        pass\n",
    "        while\n",
    "    else:\n",
    "        return False"
   ]
  },
  {
   "cell_type": "code",
   "execution_count": null,
   "metadata": {},
   "outputs": [],
   "source": []
  },
  {
   "cell_type": "code",
   "execution_count": 4,
   "metadata": {},
   "outputs": [],
   "source": [
    "def multiply_without_operator(a,b):\n",
    "    result=0\n",
    "    for _ in range (b):\n",
    "        result=result+a\n",
    "        \n",
    "    return result\n",
    "        "
   ]
  },
  {
   "cell_type": "code",
   "execution_count": 6,
   "metadata": {},
   "outputs": [
    {
     "data": {
      "text/plain": [
       "80"
      ]
     },
     "execution_count": 6,
     "metadata": {},
     "output_type": "execute_result"
    }
   ],
   "source": [
    "multiply_without_operator(10,8)"
   ]
  },
  {
   "cell_type": "code",
   "execution_count": 17,
   "metadata": {},
   "outputs": [],
   "source": [
    "def multiply(x,y):\n",
    "    print('x: ',x, ' y: ',y)\n",
    "    if y==0 or x==0:\n",
    "        return 0\n",
    "    else:\n",
    "        return x+ multiply(x,y-1)\n",
    "    "
   ]
  },
  {
   "cell_type": "code",
   "execution_count": 19,
   "metadata": {},
   "outputs": [
    {
     "name": "stdout",
     "output_type": "stream",
     "text": [
      "x:  10  y:  10\n",
      "x:  10  y:  9\n",
      "x:  10  y:  8\n",
      "x:  10  y:  7\n",
      "x:  10  y:  6\n",
      "x:  10  y:  5\n",
      "x:  10  y:  4\n",
      "x:  10  y:  3\n",
      "x:  10  y:  2\n",
      "x:  10  y:  1\n",
      "x:  10  y:  0\n"
     ]
    },
    {
     "data": {
      "text/plain": [
       "100"
      ]
     },
     "execution_count": 19,
     "metadata": {},
     "output_type": "execute_result"
    }
   ],
   "source": [
    "multiply(10,10)"
   ]
  },
  {
   "cell_type": "code",
   "execution_count": 2,
   "metadata": {},
   "outputs": [
    {
     "ename": "NameError",
     "evalue": "name 'multiply_without_operator' is not defined",
     "output_type": "error",
     "traceback": [
      "\u001b[0;31m---------------------------------------------------------------------------\u001b[0m",
      "\u001b[0;31mNameError\u001b[0m                                 Traceback (most recent call last)",
      "\u001b[0;32m<ipython-input-2-63b9b446a69d>\u001b[0m in \u001b[0;36m<module>\u001b[0;34m\u001b[0m\n\u001b[0;32m----> 1\u001b[0;31m \u001b[0mprint\u001b[0m\u001b[0;34m(\u001b[0m\u001b[0mmultiply_without_operator\u001b[0m\u001b[0;34m(\u001b[0m\u001b[0;36m10\u001b[0m\u001b[0;34m,\u001b[0m\u001b[0;36m10\u001b[0m\u001b[0;34m)\u001b[0m\u001b[0;34m)\u001b[0m\u001b[0;34m\u001b[0m\u001b[0;34m\u001b[0m\u001b[0m\n\u001b[0m",
      "\u001b[0;31mNameError\u001b[0m: name 'multiply_without_operator' is not defined"
     ]
    }
   ],
   "source": [
    "print(multiply_without_operator(10,10))"
   ]
  },
  {
   "cell_type": "code",
   "execution_count": 7,
   "metadata": {},
   "outputs": [],
   "source": [
    "def factorial(n):\n",
    "    if n==0:\n",
    "        return 1\n",
    "    return n*factorial(n-1)\n"
   ]
  },
  {
   "cell_type": "code",
   "execution_count": 9,
   "metadata": {},
   "outputs": [
    {
     "name": "stdout",
     "output_type": "stream",
     "text": [
      "3628800\n"
     ]
    }
   ],
   "source": [
    "print(factorial(10))"
   ]
  },
  {
   "cell_type": "code",
   "execution_count": 11,
   "metadata": {},
   "outputs": [
    {
     "name": "stdout",
     "output_type": "stream",
     "text": [
      "  Good   Boy\n",
      "  Good   Girl\n",
      "  Good   Man\n",
      "  Bad   Boy\n",
      "  Bad   Girl\n",
      "  Bad   Man\n",
      "  Nice   Boy\n",
      "  Nice   Girl\n",
      "  Nice   Man\n"
     ]
    }
   ],
   "source": [
    "#printa all perm combns\n",
    "adja=[\"Good\",\"Bad\",\"Nice\"]\n",
    "words=[\"Boy\",\"Girl\",\"Man\"]\n",
    "for a in adja:\n",
    "    for w in words:\n",
    "        print(' ',a,' ',w )"
   ]
  },
  {
   "cell_type": "code",
   "execution_count": null,
   "metadata": {},
   "outputs": [],
   "source": [
    "#printa all permitations of name\n",
    "abc=\"abc\" ''' abc, acb, bac,bca,cab,cba'''\n",
    "\n"
   ]
  },
  {
   "cell_type": "code",
   "execution_count": 29,
   "metadata": {},
   "outputs": [],
   "source": [
    "def perm(p):\n",
    "    if len(p)==1:\n",
    "        return p\n",
    "#     elif len(p)==2:\n",
    "#         return [p,p[::-1]]\n",
    "    else:\n",
    "        ch=p[:1]\n",
    "        remains=p[1:]\n",
    "        perms=perm(remains)\n",
    "        result=[]\n",
    "        for pp in perms:\n",
    "            for i in range(len(pp)+1):\n",
    "                result.append(pp[:i]+ch+pp[i:])\n",
    "                \n",
    "        return result\n",
    "    \n",
    "                \n",
    "    "
   ]
  },
  {
   "cell_type": "code",
   "execution_count": 39,
   "metadata": {},
   "outputs": [
    {
     "name": "stdout",
     "output_type": "stream",
     "text": [
      "['123456', '213456', '231456', '234156', '234516', '234561', '132456', '312456', '321456', '324156', '324516', '324561', '134256', '314256', '341256', '342156', '342516', '342561', '134526', '314526', '341526', '345126', '345216', '345261', '134562', '314562', '341562', '345162', '345612', '345621', '124356', '214356', '241356', '243156', '243516', '243561', '142356', '412356', '421356', '423156', '423516', '423561', '143256', '413256', '431256', '432156', '432516', '432561', '143526', '413526', '431526', '435126', '435216', '435261', '143562', '413562', '431562', '435162', '435612', '435621', '124536', '214536', '241536', '245136', '245316', '245361', '142536', '412536', '421536', '425136', '425316', '425361', '145236', '415236', '451236', '452136', '452316', '452361', '145326', '415326', '451326', '453126', '453216', '453261', '145362', '415362', '451362', '453162', '453612', '453621', '124563', '214563', '241563', '245163', '245613', '245631', '142563', '412563', '421563', '425163', '425613', '425631', '145263', '415263', '451263', '452163', '452613', '452631', '145623', '415623', '451623', '456123', '456213', '456231', '145632', '415632', '451632', '456132', '456312', '456321', '123546', '213546', '231546', '235146', '235416', '235461', '132546', '312546', '321546', '325146', '325416', '325461', '135246', '315246', '351246', '352146', '352416', '352461', '135426', '315426', '351426', '354126', '354216', '354261', '135462', '315462', '351462', '354162', '354612', '354621', '125346', '215346', '251346', '253146', '253416', '253461', '152346', '512346', '521346', '523146', '523416', '523461', '153246', '513246', '531246', '532146', '532416', '532461', '153426', '513426', '531426', '534126', '534216', '534261', '153462', '513462', '531462', '534162', '534612', '534621', '125436', '215436', '251436', '254136', '254316', '254361', '152436', '512436', '521436', '524136', '524316', '524361', '154236', '514236', '541236', '542136', '542316', '542361', '154326', '514326', '541326', '543126', '543216', '543261', '154362', '514362', '541362', '543162', '543612', '543621', '125463', '215463', '251463', '254163', '254613', '254631', '152463', '512463', '521463', '524163', '524613', '524631', '154263', '514263', '541263', '542163', '542613', '542631', '154623', '514623', '541623', '546123', '546213', '546231', '154632', '514632', '541632', '546132', '546312', '546321', '123564', '213564', '231564', '235164', '235614', '235641', '132564', '312564', '321564', '325164', '325614', '325641', '135264', '315264', '351264', '352164', '352614', '352641', '135624', '315624', '351624', '356124', '356214', '356241', '135642', '315642', '351642', '356142', '356412', '356421', '125364', '215364', '251364', '253164', '253614', '253641', '152364', '512364', '521364', '523164', '523614', '523641', '153264', '513264', '531264', '532164', '532614', '532641', '153624', '513624', '531624', '536124', '536214', '536241', '153642', '513642', '531642', '536142', '536412', '536421', '125634', '215634', '251634', '256134', '256314', '256341', '152634', '512634', '521634', '526134', '526314', '526341', '156234', '516234', '561234', '562134', '562314', '562341', '156324', '516324', '561324', '563124', '563214', '563241', '156342', '516342', '561342', '563142', '563412', '563421', '125643', '215643', '251643', '256143', '256413', '256431', '152643', '512643', '521643', '526143', '526413', '526431', '156243', '516243', '561243', '562143', '562413', '562431', '156423', '516423', '561423', '564123', '564213', '564231', '156432', '516432', '561432', '564132', '564312', '564321', '123465', '213465', '231465', '234165', '234615', '234651', '132465', '312465', '321465', '324165', '324615', '324651', '134265', '314265', '341265', '342165', '342615', '342651', '134625', '314625', '341625', '346125', '346215', '346251', '134652', '314652', '341652', '346152', '346512', '346521', '124365', '214365', '241365', '243165', '243615', '243651', '142365', '412365', '421365', '423165', '423615', '423651', '143265', '413265', '431265', '432165', '432615', '432651', '143625', '413625', '431625', '436125', '436215', '436251', '143652', '413652', '431652', '436152', '436512', '436521', '124635', '214635', '241635', '246135', '246315', '246351', '142635', '412635', '421635', '426135', '426315', '426351', '146235', '416235', '461235', '462135', '462315', '462351', '146325', '416325', '461325', '463125', '463215', '463251', '146352', '416352', '461352', '463152', '463512', '463521', '124653', '214653', '241653', '246153', '246513', '246531', '142653', '412653', '421653', '426153', '426513', '426531', '146253', '416253', '461253', '462153', '462513', '462531', '146523', '416523', '461523', '465123', '465213', '465231', '146532', '416532', '461532', '465132', '465312', '465321', '123645', '213645', '231645', '236145', '236415', '236451', '132645', '312645', '321645', '326145', '326415', '326451', '136245', '316245', '361245', '362145', '362415', '362451', '136425', '316425', '361425', '364125', '364215', '364251', '136452', '316452', '361452', '364152', '364512', '364521', '126345', '216345', '261345', '263145', '263415', '263451', '162345', '612345', '621345', '623145', '623415', '623451', '163245', '613245', '631245', '632145', '632415', '632451', '163425', '613425', '631425', '634125', '634215', '634251', '163452', '613452', '631452', '634152', '634512', '634521', '126435', '216435', '261435', '264135', '264315', '264351', '162435', '612435', '621435', '624135', '624315', '624351', '164235', '614235', '641235', '642135', '642315', '642351', '164325', '614325', '641325', '643125', '643215', '643251', '164352', '614352', '641352', '643152', '643512', '643521', '126453', '216453', '261453', '264153', '264513', '264531', '162453', '612453', '621453', '624153', '624513', '624531', '164253', '614253', '641253', '642153', '642513', '642531', '164523', '614523', '641523', '645123', '645213', '645231', '164532', '614532', '641532', '645132', '645312', '645321', '123654', '213654', '231654', '236154', '236514', '236541', '132654', '312654', '321654', '326154', '326514', '326541', '136254', '316254', '361254', '362154', '362514', '362541', '136524', '316524', '361524', '365124', '365214', '365241', '136542', '316542', '361542', '365142', '365412', '365421', '126354', '216354', '261354', '263154', '263514', '263541', '162354', '612354', '621354', '623154', '623514', '623541', '163254', '613254', '631254', '632154', '632514', '632541', '163524', '613524', '631524', '635124', '635214', '635241', '163542', '613542', '631542', '635142', '635412', '635421', '126534', '216534', '261534', '265134', '265314', '265341', '162534', '612534', '621534', '625134', '625314', '625341', '165234', '615234', '651234', '652134', '652314', '652341', '165324', '615324', '651324', '653124', '653214', '653241', '165342', '615342', '651342', '653142', '653412', '653421', '126543', '216543', '261543', '265143', '265413', '265431', '162543', '612543', '621543', '625143', '625413', '625431', '165243', '615243', '651243', '652143', '652413', '652431', '165423', '615423', '651423', '654123', '654213', '654231', '165432', '615432', '651432', '654132', '654312', '654321']\n"
     ]
    }
   ],
   "source": [
    "print(perm('123456'))"
   ]
  },
  {
   "cell_type": "code",
   "execution_count": null,
   "metadata": {},
   "outputs": [],
   "source": [
    "print(perm('a'))"
   ]
  },
  {
   "cell_type": "code",
   "execution_count": null,
   "metadata": {},
   "outputs": [],
   "source": [
    "prinit('Hellow')"
   ]
  },
  {
   "cell_type": "code",
   "execution_count": 20,
   "metadata": {},
   "outputs": [
    {
     "name": "stdout",
     "output_type": "stream",
     "text": [
      "axcd\n"
     ]
    }
   ],
   "source": [
    "ab='acd'\n",
    "print(ab[:1]+'x'+ab[1:])"
   ]
  },
  {
   "cell_type": "code",
   "execution_count": 50,
   "metadata": {},
   "outputs": [
    {
     "name": "stdout",
     "output_type": "stream",
     "text": [
      "db\n"
     ]
    }
   ],
   "source": [
    "# print('abcd'[:2])\n",
    "print('abcd'[::-2])"
   ]
  },
  {
   "cell_type": "code",
   "execution_count": 53,
   "metadata": {},
   "outputs": [
    {
     "name": "stdout",
     "output_type": "stream",
     "text": [
      "5.5\n"
     ]
    }
   ],
   "source": [
    "print(11/2)"
   ]
  },
  {
   "cell_type": "code",
   "execution_count": 58,
   "metadata": {},
   "outputs": [],
   "source": [
    "# arr1=[2,3,5]\n",
    "#arr2=[1,4,6]\n",
    "# res=[1,2,3,4,5,6]\n",
    "def merge_sorted_arrays(arr1,arr2):\n",
    "    i=j=0\n",
    "    result=[]\n",
    "    while i<len(arr1) and j<len(arr2):\n",
    "        if arr1[i]<arr2[j]:\n",
    "            result.append(arr1[i])\n",
    "            i=i+1\n",
    "        else:\n",
    "            result.append(arr2[j])\n",
    "            j=j+1\n",
    "    if i<len(arr1):\n",
    "        result.extend(arr1[i:])\n",
    "    elif j<len(arr2):\n",
    "        result.extend(arr2[j:])\n",
    "        \n",
    "    return result\n",
    "        \n",
    "            \n",
    "                \n",
    "        \n",
    "    "
   ]
  },
  {
   "cell_type": "code",
   "execution_count": 60,
   "metadata": {},
   "outputs": [
    {
     "name": "stdout",
     "output_type": "stream",
     "text": [
      "[1, 2, 3, 4, 5, 6, 7, 8, 9, 10, 11, 12, 23, 42, 53, 65]\n"
     ]
    }
   ],
   "source": [
    "print(merge_sorted_arrays([2,4,5,6,7,9],[1,3,8,10,11,12,23,42,53,65]))"
   ]
  },
  {
   "cell_type": "code",
   "execution_count": 64,
   "metadata": {},
   "outputs": [],
   "source": [
    "def mysort(arr):\n",
    "    if len(arr)==1:\n",
    "        return arr\n",
    "    m=len(arr)//2\n",
    "    arr1=arr[:m]\n",
    "    arr2=arr[m:]\n",
    "    res1=mysort(arr1)\n",
    "    res2=mysort(arr2)\n",
    "    return merge_sorted_arrays(res1,res2)\n",
    "    \n",
    "    "
   ]
  },
  {
   "cell_type": "code",
   "execution_count": 66,
   "metadata": {},
   "outputs": [
    {
     "name": "stdout",
     "output_type": "stream",
     "text": [
      "[1, 2, 3, 3, 4, 4, 5, 5, 7, 12, 21, 33, 34, 222]\n"
     ]
    }
   ],
   "source": [
    "print(mysort([2,3,5,7,4,1,3,4,5,222,33,12,34,21]))"
   ]
  },
  {
   "cell_type": "code",
   "execution_count": 19,
   "metadata": {},
   "outputs": [
    {
     "name": "stdout",
     "output_type": "stream",
     "text": [
      "[[1, 2, 3], [5, 6]]\n",
      "[1, 2, 3, 5, 6]\n"
     ]
    }
   ],
   "source": [
    "a1=[1,2,3]\n",
    "b1=[5,6]\n",
    "b2=[]\n",
    "b2.append(a1)\n",
    "b2.append(b1)\n",
    "\n",
    "print(b2)\n",
    "b3=[]\n",
    "b3.extend(a1)\n",
    "b3.extend(b1)\n",
    "print(b3)"
   ]
  },
  {
   "cell_type": "code",
   "execution_count": 3,
   "metadata": {},
   "outputs": [],
   "source": [
    "board=[\n",
    "        [1,2,3,2,7,0,0,0,0],\n",
    "        [6,0,0,1,9,5,0,0,0],\n",
    "        [0,9,8,0,0,0,0,6,0],\n",
    "        [8,0,0,0,6,0,0,0,3],\n",
    "        [4,0,0,8,0,3,0,0,1],\n",
    "        [7,0,0,0,2,0,0,0,6],\n",
    "        [0,6,0,0,0,0,0,8,0],\n",
    "        [0,0,0,4,1,9,0,2,5],\n",
    "        [0,0,0,0,8,0,0,7,9]\n",
    "      ]"
   ]
  },
  {
   "cell_type": "code",
   "execution_count": 64,
   "metadata": {},
   "outputs": [],
   "source": [
    "def print_board(board):\n",
    "    i=0\n",
    "\n",
    "    for row in board:       \n",
    "        row1=map(str,row)\n",
    "        print(' '.join(row1))\n",
    "        i=i+1\n",
    "        if i%3==0:\n",
    "            print('-'*18)\n",
    "        \n",
    "            \n",
    "            "
   ]
  },
  {
   "cell_type": "code",
   "execution_count": 51,
   "metadata": {},
   "outputs": [
    {
     "name": "stdout",
     "output_type": "stream",
     "text": [
      "7 8 5 4 3 9 1 2 6\n",
      "6 1 2 8 7 5 3 4 9\n",
      "4 9 3 6 2 1 5 7 8\n",
      "------------------\n",
      "8 5 7 9 4 3 2 6 1\n",
      "2 6 1 7 5 8 9 3 4\n",
      "9 3 4 1 6 2 7 8 5\n",
      "------------------\n",
      "5 7 8 3 9 4 6 1 2\n",
      "1 2 6 5 8 7 4 9 3\n",
      "3 4 9 2 1 6 8 5 7\n",
      "------------------\n"
     ]
    }
   ],
   "source": [
    "print_board(board)"
   ]
  },
  {
   "cell_type": "code",
   "execution_count": 62,
   "metadata": {},
   "outputs": [],
   "source": [
    "def print_board2(board):\n",
    "    for row in board:       \n",
    "        for cell in row:\n",
    "            print(cell,end=' ')     \n",
    "        print()\n",
    "            \n",
    "\n",
    "# Time Complexity- number of steps variation w.r.t data size\n"
   ]
  },
  {
   "cell_type": "code",
   "execution_count": 63,
   "metadata": {},
   "outputs": [
    {
     "ename": "NameError",
     "evalue": "name 'row1' is not defined",
     "output_type": "error",
     "traceback": [
      "\u001b[0;31m---------------------------------------------------------------------------\u001b[0m",
      "\u001b[0;31mNameError\u001b[0m                                 Traceback (most recent call last)",
      "\u001b[0;32m<ipython-input-63-9326ccee5a91>\u001b[0m in \u001b[0;36m<module>\u001b[0;34m\u001b[0m\n\u001b[0;32m----> 1\u001b[0;31m \u001b[0mprint_board2\u001b[0m\u001b[0;34m(\u001b[0m\u001b[0mboard\u001b[0m\u001b[0;34m)\u001b[0m\u001b[0;34m\u001b[0m\u001b[0;34m\u001b[0m\u001b[0m\n\u001b[0m",
      "\u001b[0;32m<ipython-input-62-7e0c75ff0455>\u001b[0m in \u001b[0;36mprint_board2\u001b[0;34m(board)\u001b[0m\n\u001b[1;32m      2\u001b[0m     \u001b[0;32mfor\u001b[0m \u001b[0mrow\u001b[0m \u001b[0;32min\u001b[0m \u001b[0mboard\u001b[0m\u001b[0;34m:\u001b[0m\u001b[0;34m\u001b[0m\u001b[0;34m\u001b[0m\u001b[0m\n\u001b[1;32m      3\u001b[0m         \u001b[0;32mfor\u001b[0m \u001b[0mcell\u001b[0m \u001b[0;32min\u001b[0m \u001b[0mrow\u001b[0m\u001b[0;34m:\u001b[0m\u001b[0;34m\u001b[0m\u001b[0;34m\u001b[0m\u001b[0m\n\u001b[0;32m----> 4\u001b[0;31m             \u001b[0mprint\u001b[0m\u001b[0;34m(\u001b[0m\u001b[0;34m','\u001b[0m\u001b[0;34m.\u001b[0m\u001b[0mjoin\u001b[0m\u001b[0;34m(\u001b[0m\u001b[0mrow1\u001b[0m\u001b[0;34m)\u001b[0m\u001b[0;34m)\u001b[0m\u001b[0;34m\u001b[0m\u001b[0;34m\u001b[0m\u001b[0m\n\u001b[0m\u001b[1;32m      5\u001b[0m         \u001b[0mprint\u001b[0m\u001b[0;34m(\u001b[0m\u001b[0;34m)\u001b[0m\u001b[0;34m\u001b[0m\u001b[0;34m\u001b[0m\u001b[0m\n\u001b[1;32m      6\u001b[0m \u001b[0;34m\u001b[0m\u001b[0m\n",
      "\u001b[0;31mNameError\u001b[0m: name 'row1' is not defined"
     ]
    }
   ],
   "source": [
    "print_board2(board)"
   ]
  },
  {
   "cell_type": "code",
   "execution_count": 8,
   "metadata": {},
   "outputs": [],
   "source": [
    "def find_zero(board):\n",
    "    for i in range(len(board)):\n",
    "        for j in range(len(board[i])):\n",
    "            if board[i][j]==0:\n",
    "                return i,j\n",
    "            \n",
    "    return None\n"
   ]
  },
  {
   "cell_type": "code",
   "execution_count": 9,
   "metadata": {},
   "outputs": [],
   "source": [
    "def find_zero_pos(board):\n",
    "    zeros=[]\n",
    "    for i in range(len(board)):\n",
    "        for j in range(len(board[i])):\n",
    "            if board[i][j]==0:\n",
    "                zeros.append([i,j])   \n",
    "            \n",
    "    return zeros\n"
   ]
  },
  {
   "cell_type": "code",
   "execution_count": 10,
   "metadata": {},
   "outputs": [],
   "source": [
    "def find_posible_cads_in_each_pos(board):\n",
    "    zeros=[]\n",
    "    for i in range(len(board)):\n",
    "        for j in range(len(board[i])):\n",
    "            if board[i][j]==0:\n",
    "                zeros.append([i,j])\n",
    "    \n",
    "            \n",
    "    return zeros"
   ]
  },
  {
   "cell_type": "code",
   "execution_count": 11,
   "metadata": {},
   "outputs": [
    {
     "name": "stdout",
     "output_type": "stream",
     "text": [
      "[[0, 5], [0, 6], [0, 7], [0, 8], [1, 1], [1, 2], [1, 6], [1, 7], [1, 8], [2, 0], [2, 3], [2, 4], [2, 5], [2, 6], [2, 8], [3, 1], [3, 2], [3, 3], [3, 5], [3, 6], [3, 7], [4, 1], [4, 2], [4, 4], [4, 6], [4, 7], [5, 1], [5, 2], [5, 3], [5, 5], [5, 6], [5, 7], [6, 0], [6, 2], [6, 3], [6, 4], [6, 5], [6, 6], [6, 8], [7, 0], [7, 1], [7, 2], [7, 6], [8, 0], [8, 1], [8, 2], [8, 3], [8, 5], [8, 6]]\n"
     ]
    }
   ],
   "source": [
    "print(find_zero_pos(board))"
   ]
  },
  {
   "cell_type": "code",
   "execution_count": 25,
   "metadata": {},
   "outputs": [],
   "source": [
    "def find_cand(board,i,j):\n",
    "    # find existing number in row\n",
    "    # find existing number in col\n",
    "    # find existing number in 3x3 block\n",
    "    existing=[]\n",
    "    for row in board[i]:\n",
    "        existing.append(row)\n",
    "#     print(existing)   \n",
    "    for row in board:        \n",
    "            existing.append(row[j])\n",
    "    lti,ltj=i//3,j//3\n",
    "    for ii in range(3):\n",
    "        for jj in range(3):\n",
    "            existing.append(board[3*lti+ii][3*ltj+jj])\n",
    "#     print(existing)\n",
    "    candidates=set(range(1,10))-set(existing)-set([0])\n",
    "#     print(candidates)\n",
    "    return candidates\n",
    "\n",
    "        \n",
    "    "
   ]
  },
  {
   "cell_type": "code",
   "execution_count": 15,
   "metadata": {},
   "outputs": [
    {
     "name": "stdout",
     "output_type": "stream",
     "text": [
      "{2}\n"
     ]
    }
   ],
   "source": [
    "print(find_cand(board,2,0))"
   ]
  },
  {
   "cell_type": "code",
   "execution_count": 66,
   "metadata": {
    "code_folding": []
   },
   "outputs": [
    {
     "name": "stdout",
     "output_type": "stream",
     "text": [
      "\n",
      "-----INPUT--------------------\n",
      "\n",
      "7 8 0 4 0 0 1 2 0\n",
      "6 0 0 0 7 5 0 0 9\n",
      "0 0 0 6 0 1 0 7 8\n",
      "------------------\n",
      "0 0 7 0 4 0 2 6 0\n",
      "0 0 1 0 5 0 9 3 0\n",
      "9 0 4 0 6 0 0 0 5\n",
      "------------------\n",
      "0 7 0 3 0 0 0 1 2\n",
      "1 2 0 0 0 7 4 0 0\n",
      "0 4 9 2 0 6 0 0 7\n",
      "------------------\n",
      "\n",
      "-----OUTPUT--------------------\n",
      "\n",
      "7 8 5 4 3 9 1 2 6\n",
      "6 1 2 8 7 5 3 4 9\n",
      "4 9 3 6 2 1 5 7 8\n",
      "------------------\n",
      "8 5 7 9 4 3 2 6 1\n",
      "2 6 1 7 5 8 9 3 4\n",
      "9 3 4 1 6 2 7 8 5\n",
      "------------------\n",
      "5 7 8 3 9 4 6 1 2\n",
      "1 2 6 5 8 7 4 9 3\n",
      "3 4 9 2 1 6 8 5 7\n",
      "------------------\n"
     ]
    }
   ],
   "source": [
    "#Sudoko\n",
    "# given list or rows of sudoko puzzle 9X9 puzzle\n",
    "# empty spaces are filled with 0\n",
    "# fill right number\n",
    "# Each row should have unique number\n",
    "# Each column should have unique number\n",
    "# Each 3X3 block should be unique\n",
    "\n",
    "# Find candidates for a given position and for each candidate call solver\n",
    "\n",
    "board =[\n",
    "        [7, 8, 0, 4, 0, 0, 1, 2, 0],\n",
    "        [6, 0, 0, 0, 7, 5, 0, 0, 9],\n",
    "        [0, 0, 0, 6, 0, 1, 0, 7, 8],\n",
    "        [0, 0, 7, 0, 4, 0, 2, 6, 0],\n",
    "        [0, 0, 1, 0, 5, 0, 9, 3, 0],\n",
    "        [9, 0, 4, 0, 6, 0, 0, 0, 5],\n",
    "        [0, 7, 0, 3, 0, 0, 0, 1, 2],\n",
    "        [1, 2, 0, 0, 0, 7, 4, 0, 0],\n",
    "        [0, 4, 9, 2, 0, 6, 0, 0, 7]\n",
    "    ]\n",
    "\n",
    "b1=[\n",
    "        [7, 8, 0, 4, 0, 0, 1, 2, 0],\n",
    "        [6, 0, 0, 0, 7, 5, 0, 0, 9],\n",
    "        [0, 0, 0, 6, 0, 1, 0, 7, 8],\n",
    "        [0, 0, 7, 0, 4, 0, 2, 6, 0],\n",
    "        [0, 0, 1, 0, 5, 0, 9, 3, 0],\n",
    "        [9, 0, 4, 0, 6, 0, 0, 0, 5],\n",
    "        [0, 7, 0, 3, 0, 0, 0, 1, 2],\n",
    "        [1, 2, 0, 0, 0, 7, 4, 0, 0],\n",
    "        [0, 4, 9, 2, 0, 6, 0, 0, 7]\n",
    "    ]\n",
    "\n",
    "def suduko_solver(board):\n",
    "    # finding the first zero\n",
    "#     print_board(board)\n",
    "#     print(find_zero(board))\n",
    "    zeros=find_zero_pos(board)\n",
    "    if len(zeros)==0:\n",
    "        return board    \n",
    "#     pos_dict={}\n",
    "    for i,j in zeros:\n",
    "        cands= find_cand(board,i,j)\n",
    "        if len(cands)==1:\n",
    "#             print(\"Fond one cell to solved\"+str(i)+str(j))\n",
    "            cand_ls=list(cands)\n",
    "#             print(cand_ls)\n",
    "            board[i][j]=int(cand_ls[0])\n",
    "            return suduko_solver(board)           \n",
    "        \n",
    "#         pos_dict[str(i)+str(j)]=cands    \n",
    "#     print(pos_dict)\n",
    "\n",
    "b=suduko_solver(board)  \n",
    "if b:\n",
    "    print('\\n-----INPUT--------------------\\n')\n",
    "    print_board(b1)\n",
    "    print('\\n-----OUTPUT--------------------\\n')\n",
    "    print_board(b)\n",
    "else:\n",
    "    print(\"Board is empty means cant solve !\")\n"
   ]
  },
  {
   "cell_type": "code",
   "execution_count": 19,
   "metadata": {},
   "outputs": [
    {
     "name": "stdout",
     "output_type": "stream",
     "text": [
      "[2]\n",
      "[3]\n",
      "[4]\n",
      "[5]\n",
      "[4]\n",
      "[3]\n"
     ]
    }
   ],
   "source": [
    "suduko_solver(board)"
   ]
  },
  {
   "cell_type": "code",
   "execution_count": 44,
   "metadata": {},
   "outputs": [],
   "source": [
    "arr=[1,2,3,4,5,6]"
   ]
  },
  {
   "cell_type": "code",
   "execution_count": 55,
   "metadata": {},
   "outputs": [
    {
     "name": "stdout",
     "output_type": "stream",
     "text": [
      "1 2 3 4 5 6\n"
     ]
    }
   ],
   "source": [
    "# trying map build in function\n",
    "import math\n",
    "arr2=map(math.sqrt,arr)\n",
    "arr2=map(str,arr)\n",
    "print (' '.join(arr2))\n"
   ]
  },
  {
   "cell_type": "code",
   "execution_count": 126,
   "metadata": {},
   "outputs": [
    {
     "name": "stdout",
     "output_type": "stream",
     "text": [
      "2\n"
     ]
    }
   ],
   "source": [
    "ls=set([1,2])\n",
    "lls=list(ls)\n",
    "print(lls[1])"
   ]
  },
  {
   "cell_type": "code",
   "execution_count": 69,
   "metadata": {},
   "outputs": [],
   "source": [
    "def dotproduct(v1,v2):\n",
    "    vector=[]\n",
    "    for i in range(len(v1)):\n",
    "        vector.append(v1[i]*v2[i])\n",
    "    return vector\n",
    "\n",
    "    "
   ]
  },
  {
   "cell_type": "code",
   "execution_count": 71,
   "metadata": {},
   "outputs": [
    {
     "name": "stdout",
     "output_type": "stream",
     "text": [
      "[4, 10, 18]\n"
     ]
    }
   ],
   "source": [
    "v1=[1,2,3]\n",
    "v2=[4,5,6]\n",
    "print(dotproduct(v1,v2))"
   ]
  },
  {
   "cell_type": "code",
   "execution_count": 82,
   "metadata": {},
   "outputs": [],
   "source": [
    "def matrixoproduct(matrix1,matrix2):\n",
    "    m=len(matrix1)\n",
    "    n=len(matrix1[0])\n",
    "#     result[m][n]=[m][n]\n",
    "    result = [[0 for _ in range(m)] for _ in range(n)]\n",
    "    for i in range(m):\n",
    "        for j in range(n):\n",
    "            result[i][j]=matrix1[i][j]*matrix2[i][j]\n",
    "    return result\n",
    "            \n",
    "            "
   ]
  },
  {
   "cell_type": "code",
   "execution_count": 83,
   "metadata": {},
   "outputs": [
    {
     "name": "stdout",
     "output_type": "stream",
     "text": [
      "[[1, 4, 9], [1, 4, 9], [1, 4, 9]]\n"
     ]
    }
   ],
   "source": [
    "print(matrixoproduct([[1,2,3],[1,2,3],[1,2,3]],[[1,2,3],[1,2,3],[1,2,3]]))"
   ]
  },
  {
   "cell_type": "code",
   "execution_count": 84,
   "metadata": {},
   "outputs": [],
   "source": [
    "# tick tack toe\n",
    "def make_move():\n",
    "    # find possible moves\n",
    "    # for each move \n",
    "        # make a move and\n",
    "        # Try move with !player Type and if opponent is losing return True\n",
    "        # Other try other move\n",
    "    # This is called Game Theaory/ Game Design\n",
    "    "
   ]
  },
  {
   "cell_type": "code",
   "execution_count": 85,
   "metadata": {},
   "outputs": [],
   "source": [
    "# tower of hunai\n"
   ]
  },
  {
   "cell_type": "code",
   "execution_count": null,
   "metadata": {},
   "outputs": [],
   "source": [
    "# Imagine your are designing Roomba\n",
    "# Possible moves are\n",
    "    # turn 90 degree, \n",
    "    # move fwd, \n",
    "    # move backwd\n",
    "# Clear the house, house is represented by a matrix where 0 means empty and \n",
    "# one means 1 means there is obstruction\n",
    "# You are given a starting point \n",
    "    "
   ]
  }
 ],
 "metadata": {
  "kernelspec": {
   "display_name": "Python 3",
   "language": "python",
   "name": "python3"
  },
  "language_info": {
   "codemirror_mode": {
    "name": "ipython",
    "version": 3
   },
   "file_extension": ".py",
   "mimetype": "text/x-python",
   "name": "python",
   "nbconvert_exporter": "python",
   "pygments_lexer": "ipython3",
   "version": "3.6.8"
  },
  "toc": {
   "base_numbering": 1,
   "nav_menu": {},
   "number_sections": true,
   "sideBar": true,
   "skip_h1_title": false,
   "title_cell": "Table of Contents",
   "title_sidebar": "Contents",
   "toc_cell": false,
   "toc_position": {},
   "toc_section_display": true,
   "toc_window_display": false
  }
 },
 "nbformat": 4,
 "nbformat_minor": 2
}
