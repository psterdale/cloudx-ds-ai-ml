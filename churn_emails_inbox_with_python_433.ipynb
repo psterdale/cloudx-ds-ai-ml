{
 "cells": [
  {
   "cell_type": "code",
   "execution_count": 41,
   "metadata": {},
   "outputs": [],
   "source": [
    "def number_of_lines():\n",
    "    fhand = open('/cxldata/datasets/project/mbox-short.txt')\n",
    "    inp = fhand.read()\n",
    "#     print(len(inp.split('\\n')))\n",
    "#     inp=\"Hellow\"\n",
    "#     s=inp.rstrip().split('\\n')\n",
    "    n=len(inp.splitlines())\n",
    "#     print(s[n-1])\n",
    "\n",
    "    fhand.close()\n",
    "    return n\n"
   ]
  },
  {
   "cell_type": "code",
   "execution_count": 42,
   "metadata": {},
   "outputs": [
    {
     "name": "stdout",
     "output_type": "stream",
     "text": [
      "1910\n"
     ]
    }
   ],
   "source": [
    "print(number_of_lines())"
   ]
  },
  {
   "cell_type": "code",
   "execution_count": 25,
   "metadata": {},
   "outputs": [
    {
     "name": "stdout",
     "output_type": "stream",
     "text": [
      "You can modify how you receive notifications at My Workspace > Preferences.\r\n",
      "\r\n"
     ]
    }
   ],
   "source": [
    "!tail -n2 /cxldata/datasets/project/mbox-short.txt"
   ]
  },
  {
   "cell_type": "code",
   "execution_count": 51,
   "metadata": {},
   "outputs": [],
   "source": [
    "def count_number_of_lines():\n",
    "    fhand = open('/cxldata/datasets/project/mbox-short.txt')\n",
    "    count = 0\n",
    "    for line in fhand:\n",
    "        line = line.rstrip() # Remove new line characters from right\n",
    "        if line.startswith('From:'):\n",
    "#             print(line)\n",
    "            count=count+1\n",
    "    return count\n"
   ]
  },
  {
   "cell_type": "code",
   "execution_count": 52,
   "metadata": {},
   "outputs": [
    {
     "name": "stdout",
     "output_type": "stream",
     "text": [
      "27\n"
     ]
    }
   ],
   "source": [
    "print(count_number_of_lines())"
   ]
  },
  {
   "cell_type": "code",
   "execution_count": 66,
   "metadata": {},
   "outputs": [],
   "source": [
    "def average_spam_confidence():\n",
    "    fhand = open('/cxldata/datasets/project/mbox-short.txt')\n",
    "    count = 0\n",
    "    sums=0\n",
    "    for line in fhand:\n",
    "        line = line.rstrip() # Remove new line characters from right\n",
    "        if line.startswith('X-DSPAM-Confidence:'):\n",
    "#             print(line)\n",
    "            sums=sums+float(line.split(':')[1])\n",
    "            count=count+1\n",
    "            \n",
    "    return sums/count"
   ]
  },
  {
   "cell_type": "code",
   "execution_count": 67,
   "metadata": {},
   "outputs": [
    {
     "name": "stdout",
     "output_type": "stream",
     "text": [
      "0.7507185185185187\n"
     ]
    }
   ],
   "source": [
    "print(average_spam_confidence())"
   ]
  },
  {
   "cell_type": "code",
   "execution_count": 8,
   "metadata": {},
   "outputs": [
    {
     "name": "stdout",
     "output_type": "stream",
     "text": [
      "{'Sat': 1, 'Fri': 20, 'Thu': 6}\n"
     ]
    }
   ],
   "source": [
    "def find_email_sent_days():\n",
    "    fhand = open('/cxldata/datasets/project/mbox-short.txt')\n",
    "    count = 0\n",
    "    days_dict=dict()\n",
    "    for line in fhand:\n",
    "        line = line.rstrip() # Remove new line characters from right\n",
    "        if line.startswith('From '):\n",
    "            week=line.split(' ')[2]\n",
    "#             count=count+1\n",
    "            if week in days_dict:\n",
    "                days_dict[week]=days_dict[week]+1\n",
    "            else:\n",
    "                days_dict[week]=1\n",
    "    return days_dict\n",
    "\n",
    "print(find_email_sent_days())"
   ]
  },
  {
   "cell_type": "code",
   "execution_count": 40,
   "metadata": {},
   "outputs": [
    {
     "name": "stdout",
     "output_type": "stream",
     "text": [
      "{'uct.ac.za': 6, 'media.berkeley.edu': 4, 'umich.edu': 7, 'iupui.edu': 8, 'caret.cam.ac.uk': 1, 'gmail.com': 1}\n"
     ]
    }
   ],
   "source": [
    "def count_message_from_domain():\n",
    "    fhand = open('/cxldata/datasets/project/mbox-short.txt')\n",
    "    count = 0\n",
    "    domain_dict=dict()\n",
    "    for line in fhand:\n",
    "        line = line.rstrip() # Remove new line characters from right\n",
    "        if line.startswith('From:'):\n",
    "#             print(line)            \n",
    "            email=line.split(' ')[1]\n",
    "            domain=email.split('@')[1] \n",
    "#             print(domain)\n",
    "            if domain in domain_dict:\n",
    "                domain_dict[domain]=domain_dict[domain]+1\n",
    "            else:\n",
    "                domain_dict[domain]=1\n",
    "    return domain_dict\n",
    "\n",
    "# print(count_message_from_email())\n",
    "print(count_message_from_domain())\n"
   ]
  },
  {
   "cell_type": "code",
   "execution_count": null,
   "metadata": {},
   "outputs": [],
   "source": []
  },
  {
   "cell_type": "code",
   "execution_count": null,
   "metadata": {},
   "outputs": [],
   "source": [
    "def count_message_from_email():\n",
    "    fhand = open('/cxldata/datasets/project/mbox-short.txt')\n",
    "    count = 0\n",
    "    email_dict=dict()\n",
    "    for line in fhand:\n",
    "        line = line.rstrip() # Remove new line characters from right\n",
    "        if line.startswith('From:'):\n",
    "            print(line)            \n",
    "            email=line.split(' ')[1]\n",
    "            if email in email_dict:\n",
    "                email_dict[email]=email_dict[email]+1\n",
    "            else:\n",
    "                email_dict[email]=1\n",
    "    return email_dict\n",
    "\n",
    "print(count_message_from_domain())"
   ]
  }
 ],
 "metadata": {
  "kernelspec": {
   "display_name": "Python 3",
   "language": "python",
   "name": "python3"
  },
  "language_info": {
   "codemirror_mode": {
    "name": "ipython",
    "version": 3
   },
   "file_extension": ".py",
   "mimetype": "text/x-python",
   "name": "python",
   "nbconvert_exporter": "python",
   "pygments_lexer": "ipython3",
   "version": "3.6.8"
  },
  "toc": {
   "base_numbering": 1,
   "nav_menu": {},
   "number_sections": true,
   "sideBar": true,
   "skip_h1_title": false,
   "title_cell": "Table of Contents",
   "title_sidebar": "Contents",
   "toc_cell": false,
   "toc_position": {},
   "toc_section_display": true,
   "toc_window_display": false
  }
 },
 "nbformat": 4,
 "nbformat_minor": 2
}
